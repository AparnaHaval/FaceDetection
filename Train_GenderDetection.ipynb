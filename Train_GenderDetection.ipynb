{
 "cells": [
  {
   "cell_type": "markdown",
   "id": "ba858147",
   "metadata": {
    "ExecuteTime": {
     "end_time": "2023-11-21T09:21:10.473479Z",
     "start_time": "2023-11-21T09:21:10.457835Z"
    }
   },
   "source": [
    "Import Libraries\n"
   ]
  },
  {
   "cell_type": "code",
   "execution_count": 1,
   "id": "ce472ab4",
   "metadata": {
    "ExecuteTime": {
     "end_time": "2023-11-22T11:21:06.578461Z",
     "start_time": "2023-11-22T11:21:02.507274Z"
    }
   },
   "outputs": [],
   "source": [
    "from tensorflow.keras.preprocessing.image import ImageDataGenerator\n",
    "from tensorflow.keras.optimizers.legacy import Adam\n",
    "from tensorflow.keras.preprocessing.image import img_to_array\n",
    "from tensorflow.keras.utils import to_categorical, plot_model\n",
    "from tensorflow.keras.models import Sequential\n",
    "from tensorflow.keras.layers import BatchNormalization, Conv2D, MaxPooling2D, Activation, Flatten, Dropout, Dense\n",
    "from tensorflow.keras import backend as K\n",
    "from sklearn.model_selection import train_test_split\n",
    "import matplotlib.pyplot as plt\n",
    "import numpy as np\n",
    "import random\n",
    "import cv2\n",
    "import os\n",
    "import glob\n",
    "\n",
    "#tensorflow.keras.optimizers.legacy.Adam  --from tensorflow.keras.optimizers import Adam"
   ]
  },
  {
   "cell_type": "markdown",
   "id": "061cae67",
   "metadata": {},
   "source": [
    "Defining initial parameters"
   ]
  },
  {
   "cell_type": "code",
   "execution_count": 2,
   "id": "46ff65ef",
   "metadata": {
    "ExecuteTime": {
     "end_time": "2023-11-22T11:21:06.585522Z",
     "start_time": "2023-11-22T11:21:06.578461Z"
    }
   },
   "outputs": [],
   "source": [
    "epochs = 100\n",
    "learning_rate = 1e-3\n",
    "batch_size = 64\n",
    "img_dims = (96,96,3)\n",
    "\n",
    "data = []\n",
    "labels = []"
   ]
  },
  {
   "cell_type": "markdown",
   "id": "7e3a2b63",
   "metadata": {},
   "source": [
    "load image files from the dataset"
   ]
  },
  {
   "cell_type": "code",
   "execution_count": 3,
   "id": "60f3814c",
   "metadata": {
    "ExecuteTime": {
     "end_time": "2023-11-22T11:21:06.655436Z",
     "start_time": "2023-11-22T11:21:06.586767Z"
    }
   },
   "outputs": [],
   "source": [
    "image_files = [f for f in glob.glob(r'D:\\Gender-Detection\\gender_dataset_face' + \"/**/*\", recursive=True) if not os.path.isdir(f)]\n",
    "random.shuffle(image_files)"
   ]
  },
  {
   "cell_type": "markdown",
   "id": "ba5e17f4",
   "metadata": {},
   "source": [
    "converting images to arrays and labelling the categories"
   ]
  },
  {
   "cell_type": "code",
   "execution_count": 4,
   "id": "67462120",
   "metadata": {
    "ExecuteTime": {
     "end_time": "2023-11-22T11:21:10.226213Z",
     "start_time": "2023-11-22T11:21:06.656156Z"
    }
   },
   "outputs": [],
   "source": [
    "for img in image_files:\n",
    "\n",
    "    image = cv2.imread(img)\n",
    "    \n",
    "    image = cv2.resize(image, (img_dims[0],img_dims[1]))\n",
    "    image = img_to_array(image)\n",
    "    data.append(image)\n",
    "\n",
    "    label = img.split(os.path.sep)[-2] # C:\\Files\\gender_dataset_face\\woman\\face_1162.jpg\n",
    "    if label == \"woman\":\n",
    "        label = 1\n",
    "    else:\n",
    "        label = 0\n",
    "        \n",
    "    labels.append([label]) # [[1], [0], [0], ...]"
   ]
  },
  {
   "cell_type": "markdown",
   "id": "941eb604",
   "metadata": {},
   "source": [
    "pre-processing"
   ]
  },
  {
   "cell_type": "code",
   "execution_count": 5,
   "id": "aa4a3f2a",
   "metadata": {
    "ExecuteTime": {
     "end_time": "2023-11-22T11:21:10.742994Z",
     "start_time": "2023-11-22T11:21:10.231697Z"
    }
   },
   "outputs": [],
   "source": [
    "data = np.array(data, dtype=\"float\") / 255.0\n",
    "labels = np.array(labels)\n"
   ]
  },
  {
   "cell_type": "markdown",
   "id": "0a0e5518",
   "metadata": {},
   "source": [
    "split dataset for training and validation "
   ]
  },
  {
   "cell_type": "code",
   "execution_count": 6,
   "id": "dc328aa7",
   "metadata": {
    "ExecuteTime": {
     "end_time": "2023-11-22T11:21:10.926098Z",
     "start_time": "2023-11-22T11:21:10.745556Z"
    }
   },
   "outputs": [],
   "source": [
    "(trainX, testX, trainY, testY) = train_test_split(data, labels, test_size=0.2,\n",
    "                                                  random_state=42)\n",
    "\n",
    "trainY = to_categorical(trainY, num_classes=2) # [[1, 0], [0, 1], [0, 1], ...]\n",
    "testY = to_categorical(testY, num_classes=2)\n",
    "\n",
    "# augmenting datset \n",
    "aug = ImageDataGenerator(rotation_range=25, width_shift_range=0.1,\n",
    "                         height_shift_range=0.1, shear_range=0.2, zoom_range=0.2,\n",
    "                         horizontal_flip=True, fill_mode=\"nearest\")"
   ]
  },
  {
   "cell_type": "markdown",
   "id": "033ac86f",
   "metadata": {
    "ExecuteTime": {
     "end_time": "2023-11-22T11:21:10.934405Z",
     "start_time": "2023-11-22T11:21:10.928197Z"
    }
   },
   "source": [
    "Building model"
   ]
  },
  {
   "cell_type": "code",
   "execution_count": 8,
   "id": "2a078c14",
   "metadata": {
    "ExecuteTime": {
     "end_time": "2023-11-22T11:22:11.571434Z",
     "start_time": "2023-11-22T11:22:11.046160Z"
    }
   },
   "outputs": [],
   "source": [
    "\n",
    "def build(width, height, depth, classes):\n",
    "    model = Sequential()\n",
    "    inputShape = (height, width, depth)\n",
    "    chanDim = -1\n",
    "\n",
    "    if K.image_data_format() == \"channels_first\": #Returns a string, either 'channels_first' or 'channels_last'\n",
    "        inputShape = (depth, height, width)\n",
    "        chanDim = 1\n",
    "    \n",
    "    # The axis that should be normalized, after a Conv2D layer with data_format=\"channels_first\", \n",
    "    # set axis=1 in BatchNormalization.\n",
    "\n",
    "    model.add(Conv2D(32, (3,3), padding=\"same\", input_shape=inputShape))\n",
    "    model.add(Activation(\"relu\"))\n",
    "    model.add(BatchNormalization(axis=chanDim))\n",
    "    model.add(MaxPooling2D(pool_size=(3,3)))\n",
    "    model.add(Dropout(0.25))\n",
    "\n",
    "    model.add(Conv2D(64, (3,3), padding=\"same\"))\n",
    "    model.add(Activation(\"relu\"))\n",
    "    model.add(BatchNormalization(axis=chanDim))\n",
    "\n",
    "    model.add(Conv2D(64, (3,3), padding=\"same\"))\n",
    "    model.add(Activation(\"relu\"))\n",
    "    model.add(BatchNormalization(axis=chanDim))\n",
    "    model.add(MaxPooling2D(pool_size=(2,2)))\n",
    "    model.add(Dropout(0.25))\n",
    "\n",
    "    model.add(Conv2D(128, (3,3), padding=\"same\"))\n",
    "    model.add(Activation(\"relu\"))\n",
    "    model.add(BatchNormalization(axis=chanDim))\n",
    "\n",
    "    model.add(Conv2D(128, (3,3), padding=\"same\"))\n",
    "    model.add(Activation(\"relu\"))\n",
    "    model.add(BatchNormalization(axis=chanDim))\n",
    "    model.add(MaxPooling2D(pool_size=(2,2)))\n",
    "    model.add(Dropout(0.25))\n",
    "\n",
    "    model.add(Flatten())\n",
    "    model.add(Dense(1024))\n",
    "    model.add(Activation(\"relu\"))\n",
    "    model.add(BatchNormalization())\n",
    "    model.add(Dropout(0.5))\n",
    "\n",
    "    model.add(Dense(classes))\n",
    "    model.add(Activation(\"sigmoid\"))\n",
    "\n",
    "    return model\n",
    "\n",
    "# build model\n",
    "model = build(width=img_dims[0], height=img_dims[1], depth=img_dims[2],\n",
    "                            classes=2)\n",
    "\n",
    "# compile the model\n",
    "opt = Adam(learning_rate=learning_rate, decay=learning_rate/epochs)\n",
    "model.compile(loss=\"binary_crossentropy\", optimizer=opt, metrics=[\"accuracy\"])\n",
    "\n",
    "\n",
    "\n"
   ]
  },
  {
   "cell_type": "markdown",
   "id": "410437ec",
   "metadata": {},
   "source": [
    "train the model"
   ]
  },
  {
   "cell_type": "code",
   "execution_count": 9,
   "id": "db75d573",
   "metadata": {
    "ExecuteTime": {
     "end_time": "2023-11-22T11:59:50.955694Z",
     "start_time": "2023-11-22T11:22:20.417914Z"
    }
   },
   "outputs": [
    {
     "name": "stderr",
     "output_type": "stream",
     "text": [
      "C:\\Users\\DELL\\AppData\\Local\\Temp\\ipykernel_8308\\1007086755.py:1: UserWarning: `Model.fit_generator` is deprecated and will be removed in a future version. Please use `Model.fit`, which supports generators.\n",
      "  H = model.fit_generator(aug.flow(trainX, trainY, batch_size=batch_size),\n"
     ]
    },
    {
     "name": "stdout",
     "output_type": "stream",
     "text": [
      "Epoch 1/100\n",
      "28/28 [==============================] - 17s 548ms/step - loss: 0.7897 - accuracy: 0.7243 - val_loss: 0.8085 - val_accuracy: 0.5281\n",
      "Epoch 2/100\n",
      "28/28 [==============================] - 15s 542ms/step - loss: 0.4820 - accuracy: 0.8214 - val_loss: 0.8518 - val_accuracy: 0.5281\n",
      "Epoch 3/100\n",
      "28/28 [==============================] - 15s 526ms/step - loss: 0.3854 - accuracy: 0.8560 - val_loss: 0.7201 - val_accuracy: 0.5281\n",
      "Epoch 4/100\n",
      "28/28 [==============================] - 15s 536ms/step - loss: 0.3367 - accuracy: 0.8759 - val_loss: 0.7367 - val_accuracy: 0.5433\n",
      "Epoch 5/100\n",
      "28/28 [==============================] - 15s 527ms/step - loss: 0.3203 - accuracy: 0.8798 - val_loss: 0.6660 - val_accuracy: 0.5714\n",
      "Epoch 6/100\n",
      "28/28 [==============================] - 15s 530ms/step - loss: 0.3104 - accuracy: 0.8815 - val_loss: 1.6324 - val_accuracy: 0.5281\n",
      "Epoch 7/100\n",
      "28/28 [==============================] - 15s 529ms/step - loss: 0.2766 - accuracy: 0.8939 - val_loss: 1.2048 - val_accuracy: 0.5303\n",
      "Epoch 8/100\n",
      "28/28 [==============================] - 15s 531ms/step - loss: 0.2570 - accuracy: 0.9012 - val_loss: 0.5694 - val_accuracy: 0.7056\n",
      "Epoch 9/100\n",
      "28/28 [==============================] - 15s 529ms/step - loss: 0.2620 - accuracy: 0.9068 - val_loss: 0.8967 - val_accuracy: 0.5541\n",
      "Epoch 10/100\n",
      "28/28 [==============================] - 15s 539ms/step - loss: 0.2335 - accuracy: 0.9231 - val_loss: 0.5832 - val_accuracy: 0.7143\n",
      "Epoch 11/100\n",
      "28/28 [==============================] - 15s 528ms/step - loss: 0.2056 - accuracy: 0.9203 - val_loss: 0.5534 - val_accuracy: 0.7532\n",
      "Epoch 12/100\n",
      "28/28 [==============================] - 15s 536ms/step - loss: 0.1938 - accuracy: 0.9354 - val_loss: 0.6539 - val_accuracy: 0.7706\n",
      "Epoch 13/100\n",
      "28/28 [==============================] - 15s 526ms/step - loss: 0.1959 - accuracy: 0.9293 - val_loss: 0.2700 - val_accuracy: 0.9048\n",
      "Epoch 14/100\n",
      "28/28 [==============================] - 15s 528ms/step - loss: 0.1576 - accuracy: 0.9382 - val_loss: 0.6049 - val_accuracy: 0.7771\n",
      "Epoch 15/100\n",
      "28/28 [==============================] - 15s 529ms/step - loss: 0.1574 - accuracy: 0.9405 - val_loss: 0.4385 - val_accuracy: 0.8398\n",
      "Epoch 16/100\n",
      "28/28 [==============================] - 15s 529ms/step - loss: 0.1519 - accuracy: 0.9439 - val_loss: 0.1926 - val_accuracy: 0.9286\n",
      "Epoch 17/100\n",
      "28/28 [==============================] - 15s 532ms/step - loss: 0.1385 - accuracy: 0.9500 - val_loss: 0.8829 - val_accuracy: 0.7294\n",
      "Epoch 18/100\n",
      "28/28 [==============================] - 15s 534ms/step - loss: 0.1449 - accuracy: 0.9425 - val_loss: 0.3029 - val_accuracy: 0.8939\n",
      "Epoch 19/100\n",
      "28/28 [==============================] - 15s 534ms/step - loss: 0.1274 - accuracy: 0.9506 - val_loss: 0.1884 - val_accuracy: 0.9242\n",
      "Epoch 20/100\n",
      "28/28 [==============================] - 15s 535ms/step - loss: 0.1133 - accuracy: 0.9585 - val_loss: 0.1778 - val_accuracy: 0.9372\n",
      "Epoch 21/100\n",
      "28/28 [==============================] - 15s 527ms/step - loss: 0.1113 - accuracy: 0.9545 - val_loss: 0.1209 - val_accuracy: 0.9610\n",
      "Epoch 22/100\n",
      "28/28 [==============================] - 15s 534ms/step - loss: 0.1114 - accuracy: 0.9545 - val_loss: 0.0636 - val_accuracy: 0.9697\n",
      "Epoch 23/100\n",
      "28/28 [==============================] - 15s 539ms/step - loss: 0.1074 - accuracy: 0.9652 - val_loss: 0.1260 - val_accuracy: 0.9502\n",
      "Epoch 24/100\n",
      "28/28 [==============================] - 15s 536ms/step - loss: 0.1487 - accuracy: 0.9461 - val_loss: 0.4866 - val_accuracy: 0.8074\n",
      "Epoch 25/100\n",
      "28/28 [==============================] - 15s 535ms/step - loss: 0.1355 - accuracy: 0.9495 - val_loss: 0.8628 - val_accuracy: 0.7900\n",
      "Epoch 26/100\n",
      "28/28 [==============================] - 15s 535ms/step - loss: 0.1377 - accuracy: 0.9405 - val_loss: 0.1740 - val_accuracy: 0.9502\n",
      "Epoch 27/100\n",
      "28/28 [==============================] - 15s 530ms/step - loss: 0.1247 - accuracy: 0.9500 - val_loss: 0.2860 - val_accuracy: 0.9134\n",
      "Epoch 28/100\n",
      "28/28 [==============================] - 15s 527ms/step - loss: 0.0961 - accuracy: 0.9635 - val_loss: 0.1574 - val_accuracy: 0.9524\n",
      "Epoch 29/100\n",
      "28/28 [==============================] - 15s 525ms/step - loss: 0.0970 - accuracy: 0.9629 - val_loss: 0.4976 - val_accuracy: 0.8723\n",
      "Epoch 30/100\n",
      "28/28 [==============================] - 15s 528ms/step - loss: 0.0729 - accuracy: 0.9725 - val_loss: 0.1799 - val_accuracy: 0.9545\n",
      "Epoch 31/100\n",
      "28/28 [==============================] - 15s 530ms/step - loss: 0.0683 - accuracy: 0.9742 - val_loss: 0.1378 - val_accuracy: 0.9502\n",
      "Epoch 32/100\n",
      "28/28 [==============================] - 15s 542ms/step - loss: 0.0884 - accuracy: 0.9674 - val_loss: 0.1535 - val_accuracy: 0.9502\n",
      "Epoch 33/100\n",
      "28/28 [==============================] - 15s 548ms/step - loss: 0.0763 - accuracy: 0.9702 - val_loss: 0.1133 - val_accuracy: 0.9675\n",
      "Epoch 34/100\n",
      "28/28 [==============================] - 15s 543ms/step - loss: 0.0747 - accuracy: 0.9708 - val_loss: 0.2639 - val_accuracy: 0.9264\n",
      "Epoch 35/100\n",
      "28/28 [==============================] - 16s 558ms/step - loss: 0.0635 - accuracy: 0.9747 - val_loss: 0.2136 - val_accuracy: 0.9307\n",
      "Epoch 36/100\n",
      "28/28 [==============================] - 15s 544ms/step - loss: 0.0886 - accuracy: 0.9657 - val_loss: 0.0634 - val_accuracy: 0.9719\n",
      "Epoch 37/100\n",
      "28/28 [==============================] - 15s 550ms/step - loss: 0.0808 - accuracy: 0.9736 - val_loss: 0.1438 - val_accuracy: 0.9567\n",
      "Epoch 38/100\n",
      "28/28 [==============================] - 15s 550ms/step - loss: 0.1301 - accuracy: 0.9551 - val_loss: 0.2824 - val_accuracy: 0.8983\n",
      "Epoch 39/100\n",
      "28/28 [==============================] - 15s 549ms/step - loss: 0.0962 - accuracy: 0.9646 - val_loss: 0.1446 - val_accuracy: 0.9545\n",
      "Epoch 40/100\n",
      "28/28 [==============================] - 15s 540ms/step - loss: 0.0882 - accuracy: 0.9714 - val_loss: 0.2175 - val_accuracy: 0.9242\n",
      "Epoch 41/100\n",
      "28/28 [==============================] - 15s 535ms/step - loss: 0.0773 - accuracy: 0.9708 - val_loss: 0.3415 - val_accuracy: 0.8939\n",
      "Epoch 42/100\n",
      "28/28 [==============================] - 744s 28s/step - loss: 0.0728 - accuracy: 0.9725 - val_loss: 0.2370 - val_accuracy: 0.9221\n",
      "Epoch 43/100\n",
      "28/28 [==============================] - 16s 552ms/step - loss: 0.0600 - accuracy: 0.9788 - val_loss: 0.1470 - val_accuracy: 0.9524\n",
      "Epoch 44/100\n",
      "28/28 [==============================] - 15s 544ms/step - loss: 0.0574 - accuracy: 0.9781 - val_loss: 0.2368 - val_accuracy: 0.9416\n",
      "Epoch 45/100\n",
      "28/28 [==============================] - 15s 545ms/step - loss: 0.0698 - accuracy: 0.9747 - val_loss: 0.1276 - val_accuracy: 0.9589\n",
      "Epoch 46/100\n",
      "28/28 [==============================] - 15s 534ms/step - loss: 0.0582 - accuracy: 0.9803 - val_loss: 0.1197 - val_accuracy: 0.9632\n",
      "Epoch 47/100\n",
      "28/28 [==============================] - 15s 520ms/step - loss: 0.0667 - accuracy: 0.9770 - val_loss: 0.0559 - val_accuracy: 0.9870\n",
      "Epoch 48/100\n",
      "28/28 [==============================] - 15s 522ms/step - loss: 0.0641 - accuracy: 0.9775 - val_loss: 0.1871 - val_accuracy: 0.9372\n",
      "Epoch 49/100\n",
      "28/28 [==============================] - 15s 529ms/step - loss: 0.0531 - accuracy: 0.9815 - val_loss: 0.0742 - val_accuracy: 0.9740\n",
      "Epoch 50/100\n",
      "28/28 [==============================] - 15s 525ms/step - loss: 0.0648 - accuracy: 0.9770 - val_loss: 0.1076 - val_accuracy: 0.9632\n",
      "Epoch 51/100\n",
      "28/28 [==============================] - 15s 533ms/step - loss: 0.0635 - accuracy: 0.9759 - val_loss: 0.1971 - val_accuracy: 0.9437\n",
      "Epoch 52/100\n",
      "28/28 [==============================] - 15s 524ms/step - loss: 0.0631 - accuracy: 0.9759 - val_loss: 0.1873 - val_accuracy: 0.9437\n",
      "Epoch 53/100\n",
      "28/28 [==============================] - 15s 527ms/step - loss: 0.0512 - accuracy: 0.9815 - val_loss: 0.1547 - val_accuracy: 0.9567\n",
      "Epoch 54/100\n",
      "28/28 [==============================] - 15s 522ms/step - loss: 0.0500 - accuracy: 0.9798 - val_loss: 0.2497 - val_accuracy: 0.9264\n",
      "Epoch 55/100\n",
      "28/28 [==============================] - 15s 520ms/step - loss: 0.0620 - accuracy: 0.9747 - val_loss: 0.1018 - val_accuracy: 0.9610\n",
      "Epoch 56/100\n",
      "28/28 [==============================] - 15s 516ms/step - loss: 0.0705 - accuracy: 0.9742 - val_loss: 0.2057 - val_accuracy: 0.9437\n",
      "Epoch 57/100\n"
     ]
    },
    {
     "name": "stdout",
     "output_type": "stream",
     "text": [
      "28/28 [==============================] - 15s 527ms/step - loss: 0.0563 - accuracy: 0.9798 - val_loss: 0.2013 - val_accuracy: 0.9394\n",
      "Epoch 58/100\n",
      "28/28 [==============================] - 15s 529ms/step - loss: 0.0485 - accuracy: 0.9792 - val_loss: 0.0851 - val_accuracy: 0.9762\n",
      "Epoch 59/100\n",
      "28/28 [==============================] - 15s 526ms/step - loss: 0.0509 - accuracy: 0.9803 - val_loss: 0.7459 - val_accuracy: 0.8182\n",
      "Epoch 60/100\n",
      "28/28 [==============================] - 15s 528ms/step - loss: 0.0615 - accuracy: 0.9781 - val_loss: 0.1086 - val_accuracy: 0.9632\n",
      "Epoch 61/100\n",
      "28/28 [==============================] - 15s 534ms/step - loss: 0.0551 - accuracy: 0.9820 - val_loss: 0.1534 - val_accuracy: 0.9545\n",
      "Epoch 62/100\n",
      "28/28 [==============================] - 15s 529ms/step - loss: 0.0526 - accuracy: 0.9815 - val_loss: 0.1149 - val_accuracy: 0.9610\n",
      "Epoch 63/100\n",
      "28/28 [==============================] - 15s 526ms/step - loss: 0.0423 - accuracy: 0.9848 - val_loss: 0.1229 - val_accuracy: 0.9589\n",
      "Epoch 64/100\n",
      "28/28 [==============================] - 15s 535ms/step - loss: 0.0327 - accuracy: 0.9899 - val_loss: 0.1420 - val_accuracy: 0.9610\n",
      "Epoch 65/100\n",
      "28/28 [==============================] - 15s 533ms/step - loss: 0.0513 - accuracy: 0.9826 - val_loss: 1.2751 - val_accuracy: 0.7446\n",
      "Epoch 66/100\n",
      "28/28 [==============================] - 15s 525ms/step - loss: 0.0580 - accuracy: 0.9792 - val_loss: 0.1575 - val_accuracy: 0.9502\n",
      "Epoch 67/100\n",
      "28/28 [==============================] - 15s 539ms/step - loss: 0.0573 - accuracy: 0.9764 - val_loss: 0.1673 - val_accuracy: 0.9632\n",
      "Epoch 68/100\n",
      "28/28 [==============================] - 15s 549ms/step - loss: 0.0567 - accuracy: 0.9787 - val_loss: 0.2624 - val_accuracy: 0.9286\n",
      "Epoch 69/100\n",
      "28/28 [==============================] - 15s 538ms/step - loss: 0.0498 - accuracy: 0.9809 - val_loss: 0.7682 - val_accuracy: 0.8290\n",
      "Epoch 70/100\n",
      "28/28 [==============================] - 15s 533ms/step - loss: 0.0557 - accuracy: 0.9770 - val_loss: 0.1295 - val_accuracy: 0.9567\n",
      "Epoch 71/100\n",
      "28/28 [==============================] - 15s 535ms/step - loss: 0.0605 - accuracy: 0.9725 - val_loss: 0.2855 - val_accuracy: 0.9264\n",
      "Epoch 72/100\n",
      "28/28 [==============================] - 15s 542ms/step - loss: 0.0477 - accuracy: 0.9832 - val_loss: 0.1095 - val_accuracy: 0.9567\n",
      "Epoch 73/100\n",
      "28/28 [==============================] - 16s 551ms/step - loss: 0.0415 - accuracy: 0.9832 - val_loss: 0.1801 - val_accuracy: 0.9437\n",
      "Epoch 74/100\n",
      "28/28 [==============================] - 15s 547ms/step - loss: 0.0535 - accuracy: 0.9803 - val_loss: 0.1032 - val_accuracy: 0.9675\n",
      "Epoch 75/100\n",
      "28/28 [==============================] - 15s 538ms/step - loss: 0.0364 - accuracy: 0.9910 - val_loss: 0.1251 - val_accuracy: 0.9632\n",
      "Epoch 76/100\n",
      "28/28 [==============================] - 15s 543ms/step - loss: 0.0319 - accuracy: 0.9876 - val_loss: 0.0565 - val_accuracy: 0.9784\n",
      "Epoch 77/100\n",
      "28/28 [==============================] - 15s 545ms/step - loss: 0.0399 - accuracy: 0.9860 - val_loss: 0.4170 - val_accuracy: 0.8853\n",
      "Epoch 78/100\n",
      "28/28 [==============================] - 16s 555ms/step - loss: 0.0495 - accuracy: 0.9798 - val_loss: 0.1517 - val_accuracy: 0.9589\n",
      "Epoch 79/100\n",
      "28/28 [==============================] - 16s 553ms/step - loss: 0.0427 - accuracy: 0.9854 - val_loss: 0.1360 - val_accuracy: 0.9524\n",
      "Epoch 80/100\n",
      "28/28 [==============================] - 15s 548ms/step - loss: 0.0436 - accuracy: 0.9832 - val_loss: 0.0720 - val_accuracy: 0.9784\n",
      "Epoch 81/100\n",
      "28/28 [==============================] - 15s 538ms/step - loss: 0.0411 - accuracy: 0.9865 - val_loss: 0.0630 - val_accuracy: 0.9805\n",
      "Epoch 82/100\n",
      "28/28 [==============================] - 16s 566ms/step - loss: 0.0347 - accuracy: 0.9876 - val_loss: 0.2441 - val_accuracy: 0.9351\n",
      "Epoch 83/100\n",
      "28/28 [==============================] - 15s 542ms/step - loss: 0.0469 - accuracy: 0.9832 - val_loss: 0.1139 - val_accuracy: 0.9762\n",
      "Epoch 84/100\n",
      "28/28 [==============================] - 15s 542ms/step - loss: 0.0518 - accuracy: 0.9809 - val_loss: 0.1912 - val_accuracy: 0.9307\n",
      "Epoch 85/100\n",
      "28/28 [==============================] - 15s 544ms/step - loss: 0.0355 - accuracy: 0.9843 - val_loss: 0.0686 - val_accuracy: 0.9740\n",
      "Epoch 86/100\n",
      "28/28 [==============================] - 16s 559ms/step - loss: 0.0294 - accuracy: 0.9871 - val_loss: 0.1511 - val_accuracy: 0.9502\n",
      "Epoch 87/100\n",
      "28/28 [==============================] - 15s 535ms/step - loss: 0.0515 - accuracy: 0.9815 - val_loss: 0.1729 - val_accuracy: 0.9502\n",
      "Epoch 88/100\n",
      "28/28 [==============================] - 15s 541ms/step - loss: 0.0372 - accuracy: 0.9860 - val_loss: 0.3022 - val_accuracy: 0.9199\n",
      "Epoch 89/100\n",
      "28/28 [==============================] - 16s 564ms/step - loss: 0.0566 - accuracy: 0.9798 - val_loss: 0.1255 - val_accuracy: 0.9589\n",
      "Epoch 90/100\n",
      "28/28 [==============================] - 17s 600ms/step - loss: 0.0444 - accuracy: 0.9832 - val_loss: 0.2121 - val_accuracy: 0.9372\n",
      "Epoch 91/100\n",
      "28/28 [==============================] - 17s 599ms/step - loss: 0.0741 - accuracy: 0.9753 - val_loss: 0.0827 - val_accuracy: 0.9719\n",
      "Epoch 92/100\n",
      "28/28 [==============================] - 15s 541ms/step - loss: 0.0493 - accuracy: 0.9809 - val_loss: 0.2043 - val_accuracy: 0.9329\n",
      "Epoch 93/100\n",
      "28/28 [==============================] - 15s 532ms/step - loss: 0.0465 - accuracy: 0.9826 - val_loss: 0.2041 - val_accuracy: 0.9502\n",
      "Epoch 94/100\n",
      "28/28 [==============================] - 15s 534ms/step - loss: 0.0472 - accuracy: 0.9848 - val_loss: 0.2512 - val_accuracy: 0.9177\n",
      "Epoch 95/100\n",
      "28/28 [==============================] - 15s 534ms/step - loss: 0.0296 - accuracy: 0.9882 - val_loss: 0.1025 - val_accuracy: 0.9610\n",
      "Epoch 96/100\n",
      "28/28 [==============================] - 15s 534ms/step - loss: 0.0326 - accuracy: 0.9876 - val_loss: 0.1571 - val_accuracy: 0.9567\n",
      "Epoch 97/100\n",
      "28/28 [==============================] - 16s 562ms/step - loss: 0.0370 - accuracy: 0.9860 - val_loss: 0.2208 - val_accuracy: 0.9351\n",
      "Epoch 98/100\n",
      "28/28 [==============================] - 17s 607ms/step - loss: 0.0308 - accuracy: 0.9927 - val_loss: 0.0885 - val_accuracy: 0.9740\n",
      "Epoch 99/100\n",
      "28/28 [==============================] - 17s 609ms/step - loss: 0.0328 - accuracy: 0.9860 - val_loss: 0.1334 - val_accuracy: 0.9610\n",
      "Epoch 100/100\n",
      "28/28 [==============================] - 16s 581ms/step - loss: 0.0335 - accuracy: 0.9882 - val_loss: 0.1512 - val_accuracy: 0.9459\n"
     ]
    }
   ],
   "source": [
    "H = model.fit_generator(aug.flow(trainX, trainY, batch_size=batch_size),\n",
    "                        validation_data=(testX,testY),\n",
    "                        steps_per_epoch=len(trainX) // batch_size,\n",
    "                        epochs=epochs, verbose=1)\n",
    "\n"
   ]
  },
  {
   "cell_type": "markdown",
   "id": "cc1427ed",
   "metadata": {},
   "source": [
    "save the model to disk"
   ]
  },
  {
   "cell_type": "code",
   "execution_count": 10,
   "id": "f36d5674",
   "metadata": {
    "ExecuteTime": {
     "end_time": "2023-11-22T11:59:56.397904Z",
     "start_time": "2023-11-22T11:59:50.957688Z"
    }
   },
   "outputs": [
    {
     "name": "stderr",
     "output_type": "stream",
     "text": [
      "WARNING:absl:Found untraced functions such as _jit_compiled_convolution_op, _jit_compiled_convolution_op, _jit_compiled_convolution_op, _jit_compiled_convolution_op, _jit_compiled_convolution_op while saving (showing 5 of 5). These functions will not be directly callable after loading.\n"
     ]
    },
    {
     "name": "stdout",
     "output_type": "stream",
     "text": [
      "INFO:tensorflow:Assets written to: gender_detection.model\\assets\n"
     ]
    },
    {
     "name": "stderr",
     "output_type": "stream",
     "text": [
      "INFO:tensorflow:Assets written to: gender_detection.model\\assets\n"
     ]
    }
   ],
   "source": [
    "model.save('gender_detection.model')"
   ]
  },
  {
   "cell_type": "code",
   "execution_count": null,
   "id": "71d991b6",
   "metadata": {},
   "outputs": [],
   "source": []
  },
  {
   "cell_type": "code",
   "execution_count": null,
   "id": "3e3e8189",
   "metadata": {},
   "outputs": [],
   "source": []
  },
  {
   "cell_type": "code",
   "execution_count": null,
   "id": "1d996ae5",
   "metadata": {},
   "outputs": [],
   "source": []
  },
  {
   "cell_type": "code",
   "execution_count": null,
   "id": "65bdc0b6",
   "metadata": {},
   "outputs": [],
   "source": [
    "# plot training/validation loss/accuracy\n",
    "plt.style.use(\"ggplot\")\n",
    "plt.figure()\n",
    "N = epochs\n",
    "plt.plot(np.arange(0,N), H.history[\"loss\"], label=\"train_loss\")\n",
    "plt.plot(np.arange(0,N), H.history[\"val_loss\"], label=\"val_loss\")\n",
    "plt.plot(np.arange(0,N), H.history[\"acc\"], label=\"train_acc\")\n",
    "plt.plot(np.arange(0,N), H.history[\"val_acc\"], label=\"val_acc\")\n",
    "\n",
    "plt.title(\"Training Loss and Accuracy\")\n",
    "plt.xlabel(\"Epoch #\")\n",
    "plt.ylabel(\"Loss/Accuracy\")\n",
    "plt.legend(loc=\"upper right\")\n",
    "\n",
    "# save plot to disk\n",
    "plt.savefig('plot.png')"
   ]
  }
 ],
 "metadata": {
  "kernelspec": {
   "display_name": "Python 3 (ipykernel)",
   "language": "python",
   "name": "python3"
  },
  "language_info": {
   "codemirror_mode": {
    "name": "ipython",
    "version": 3
   },
   "file_extension": ".py",
   "mimetype": "text/x-python",
   "name": "python",
   "nbconvert_exporter": "python",
   "pygments_lexer": "ipython3",
   "version": "3.9.13"
  }
 },
 "nbformat": 4,
 "nbformat_minor": 5
}
